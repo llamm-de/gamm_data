{
 "cells": [
  {
   "cell_type": "code",
   "execution_count": 17,
   "metadata": {},
   "outputs": [],
   "source": [
    "import pickle\n",
    "import pandas as pd\n",
    "import seaborn as sb"
   ]
  },
  {
   "cell_type": "code",
   "execution_count": 30,
   "metadata": {},
   "outputs": [],
   "source": [
    "# Load data from pickled files\n",
    "with open(\"participants.pkl\", 'rb') as f:\n",
    "    participants = pickle.load(f)"
   ]
  },
  {
   "cell_type": "code",
   "execution_count": 31,
   "metadata": {},
   "outputs": [
    {
     "data": {
      "text/plain": [
       "Index(['personID', 'title_selected', 'formal_salutation', 'name', 'firstname',\n",
       "       'full_name', 'organisation', 'organisation2', 'address_line_1',\n",
       "       'address_line_2', 'address_line_3', 'zip', 'city', 'state',\n",
       "       'countrycode', 'country', 'email', 'email2', 'cc_email',\n",
       "       'badge_firstname', 'badge_name', 'badge_organisation',\n",
       "       'badge_organisation2', 'participant_registration_date',\n",
       "       'participant_group', 'invoice_reference', 'member_registration_ID',\n",
       "       'confirmation_upload_filename', 'invoiceno', 'last_invoice_date',\n",
       "       'payment_method', 'total_fee', 'amount_open', 'amount_paid',\n",
       "       'payment_date', 'canceled_registration', 'last_update', 'gender',\n",
       "       'gender_probability'],\n",
       "      dtype='object')"
      ]
     },
     "execution_count": 31,
     "metadata": {},
     "output_type": "execute_result"
    }
   ],
   "source": [
    "participants = pd.DataFrame(participants)\n",
    "participants.columns"
   ]
  },
  {
   "cell_type": "code",
   "execution_count": 33,
   "metadata": {},
   "outputs": [
    {
     "data": {
      "text/plain": [
       "0      Local Organizer (GAMM Non-Member)\n",
       "1      Local Organizer (GAMM Non-Member)\n",
       "2                            Non-Members\n",
       "3                            Non-Members\n",
       "4                           GAMM Members\n",
       "                     ...                \n",
       "923                         GAMM Members\n",
       "924                         GAMM Members\n",
       "925                         GAMM Members\n",
       "926                          Non-Members\n",
       "927                         GAMM Members\n",
       "Name: participant_group, Length: 928, dtype: object"
      ]
     },
     "execution_count": 33,
     "metadata": {},
     "output_type": "execute_result"
    }
   ],
   "source": [
    "participants[\"participant_group\"]"
   ]
  },
  {
   "cell_type": "code",
   "execution_count": 5,
   "metadata": {},
   "outputs": [
    {
     "data": {
      "text/plain": [
       "<AxesSubplot:ylabel='title_selected'>"
      ]
     },
     "execution_count": 5,
     "metadata": {},
     "output_type": "execute_result"
    },
    {
     "data": {
      "image/png": "[encoded data removed]",
      "text/plain": [
       "<Figure size 432x288 with 1 Axes>"
      ]
     },
     "metadata": {},
     "output_type": "display_data"
    }
   ],
   "source": [
    "# Distribution on academic position\n",
    "participants[\"title_selected\"].replace(\"Mr.\", \"None\", inplace=True)\n",
    "participants[\"title_selected\"].replace(\"Ms.\", \"None\", inplace=True)\n",
    "participants[\"title_selected\"].value_counts().plot.pie(autopct=\"%.1f%%\")"
   ]
  },
  {
   "cell_type": "code",
   "execution_count": 6,
   "metadata": {},
   "outputs": [
    {
     "data": {
      "text/plain": [
       "<AxesSubplot:ylabel='gender'>"
      ]
     },
     "execution_count": 6,
     "metadata": {},
     "output_type": "execute_result"
    },
    {
     "data": {
      "image/png": "[encoded data removed]",
      "text/plain": [
       "<Figure size 432x288 with 1 Axes>"
      ]
     },
     "metadata": {},
     "output_type": "display_data"
    }
   ],
   "source": [
    "# Gender distribution for all participants\n",
    "participants[\"gender\"].value_counts().plot.pie(autopct=\"%.1f%%\")"
   ]
  },
  {
   "cell_type": "code",
   "execution_count": 7,
   "metadata": {},
   "outputs": [
    {
     "data": {
      "text/plain": [
       "<AxesSubplot:xlabel='title_selected,gender'>"
      ]
     },
     "execution_count": 7,
     "metadata": {},
     "output_type": "execute_result"
    },
    {
     "data": {
      "image/png": "[encoded data removed]",
      "text/plain": [
       "<Figure size 432x288 with 1 Axes>"
      ]
     },
     "metadata": {
      "needs_background": "light"
     },
     "output_type": "display_data"
    }
   ],
   "source": [
    "# Gender distribution by academic title\n",
    "gender_per_title = participants.groupby(\"title_selected\")[\"gender\"].value_counts(normalize=True)\n",
    "gender_per_title.plot.bar() #.pie(autopct=\"%.1f%%\")"
   ]
  },
  {
   "cell_type": "code",
   "execution_count": 16,
   "metadata": {},
   "outputs": [
    {
     "data": {
      "text/plain": [
       "2022-06-02 13:09:14    1\n",
       "2022-04-29 14:47:15    1\n",
       "2022-06-09 20:24:49    1\n",
       "2022-05-31 12:28:45    1\n",
       "2022-06-10 09:27:07    1\n",
       "                      ..\n",
       "2022-05-04 10:35:07    1\n",
       "2022-05-30 09:18:32    1\n",
       "2022-05-25 14:32:40    1\n",
       "2022-04-30 12:15:25    1\n",
       "2022-07-06 18:39:35    1\n",
       "Name: participant_registration_date, Length: 928, dtype: int64"
      ]
     },
     "execution_count": 16,
     "metadata": {},
     "output_type": "execute_result"
    }
   ],
   "source": [
    "organizations = participants[\"participant_registration_date\"].value_counts()\n",
    "organizations"
   ]
  }
 ],
 "metadata": {
  "kernelspec": {
   "display_name": "Python 3.10.4 ('.venv': venv)",
   "language": "python",
   "name": "python3"
  },
  "language_info": {
   "codemirror_mode": {
    "name": "ipython",
    "version": 3
   },
   "file_extension": ".py",
   "mimetype": "text/x-python",
   "name": "python",
   "nbconvert_exporter": "python",
   "pygments_lexer": "ipython3",
   "version": "3.10.4"
  },
  "orig_nbformat": 4,
  "vscode": {
   "interpreter": {
    "hash": "7a45eb8a9a6ac932c8c7192f7a1c583585ba24cdc5e893ed40b24bb7cfd24995"
   }
  }
 },
 "nbformat": 4,
 "nbformat_minor": 2
}
