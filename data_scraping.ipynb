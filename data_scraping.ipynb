{
 "cells": [
  {
   "cell_type": "code",
   "execution_count": 2,
   "metadata": {},
   "outputs": [],
   "source": [
    "from ConfToolAPI import APIHandler\n",
    "import pickle\n",
    "import requests"
   ]
  },
  {
   "cell_type": "code",
   "execution_count": 3,
   "metadata": {},
   "outputs": [],
   "source": [
    "# Set-up api handler\n",
    "api = APIHandler.from_dotenv(\".env\")"
   ]
  },
  {
   "cell_type": "code",
   "execution_count": 4,
   "metadata": {},
   "outputs": [],
   "source": [
    "# Load participant data from api\n",
    "data = api.get_participants()\n",
    "data = data[\"participants\"][\"participant\"]\n",
    "\n",
    "# Enrich with gender data\n",
    "for participant in data:\n",
    "    if participant[\"title_selected\"] in [\"Prof.\", \"Dr.\"]:\n",
    "        response = requests.get(f\"https://api.genderize.io?name={participant['firstname']}\")\n",
    "        gender = response.json()\n",
    "        participant[\"gender\"] = gender[\"gender\"]\n",
    "        participant[\"gender_probability\"] = gender[\"probability\"]\n",
    "    elif participant[\"title_selected\"] == \"Mr.\":\n",
    "        participant[\"gender\"] = \"male\"\n",
    "        participant[\"gender_probability\"] = 1\n",
    "    elif participant[\"title_selected\"] == \"Ms.\":\n",
    "        participant[\"gender\"] = \"female\"\n",
    "        participant[\"gender_probability\"] = 1\n",
    "# Save\n",
    "with open(\"participants.pkl\", \"wb\") as f:\n",
    "    pickle.dump(data, f)"
   ]
  },
  {
   "cell_type": "code",
   "execution_count": 16,
   "metadata": {},
   "outputs": [],
   "source": [
    "#  Load abstract data\n",
    "data = api.get_papers()\n",
    "data = data[\"papers\"][\"paper\"]\n",
    "\n",
    "with open(\"abstracts.pkl\", \"wb\") as f:\n",
    "    pickle.dump(data, f)"
   ]
  }
 ],
 "metadata": {
  "kernelspec": {
   "display_name": "Python 3.10.4 ('.venv': venv)",
   "language": "python",
   "name": "python3"
  },
  "language_info": {
   "codemirror_mode": {
    "name": "ipython",
    "version": 3
   },
   "file_extension": ".py",
   "mimetype": "text/x-python",
   "name": "python",
   "nbconvert_exporter": "python",
   "pygments_lexer": "ipython3",
   "version": "3.10.4"
  },
  "orig_nbformat": 4,
  "vscode": {
   "interpreter": {
    "hash": "7a45eb8a9a6ac932c8c7192f7a1c583585ba24cdc5e893ed40b24bb7cfd24995"
   }
  }
 },
 "nbformat": 4,
 "nbformat_minor": 2
}
